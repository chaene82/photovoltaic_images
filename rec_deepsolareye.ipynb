{
 "cells": [
  {
   "cell_type": "code",
   "execution_count": 1,
   "metadata": {},
   "outputs": [],
   "source": [
    "import rectification as rec\n",
    "from sklearn.datasets import load_sample_images\n",
    "import matplotlib.pyplot as plt\n",
    "import cv2\n",
    "import numpy as np\n",
    "from PIL import Image\n",
    "import os\n",
    "import pathlib\n",
    "\n"
   ]
  },
  {
   "cell_type": "code",
   "execution_count": 2,
   "metadata": {},
   "outputs": [
    {
     "name": "stderr",
     "output_type": "stream",
     "text": [
      "Using TensorFlow backend.\n"
     ]
    }
   ],
   "source": [
    "from utils import *\n",
    "from models.model import *\n",
    "import rectification as rec"
   ]
  },
  {
   "cell_type": "code",
   "execution_count": 3,
   "metadata": {},
   "outputs": [],
   "source": [
    "def filterDatasetDeepSolarEye(folder):\n",
    "    \"\"\"[summary]\n",
    "\n",
    "    Args:\n",
    "        folder ([type]): [description]\n",
    "        mode (str, optional): [description]. Defaults to 'train'.\n",
    "\n",
    "    Returns:\n",
    "        [type]: [description]\n",
    "    \"\"\"\n",
    "    onlyfiles = [f for f in os.listdir(folder) if os.path.isfile(os.path.join(folder, f))]\n",
    "    unique_images = []\n",
    "    for file in onlyfiles:\n",
    "        file_obj = {'file_name' : \"//\" + file}\n",
    "        unique_images.append(file_obj)\n",
    "    dataset_size = len(unique_images)\n",
    "    \n",
    "    return unique_images, dataset_size, None"
   ]
  },
  {
   "cell_type": "code",
   "execution_count": 4,
   "metadata": {},
   "outputs": [],
   "source": [
    "log = RuntimeLogger(\".\", 'DeepSolarEyeCalc', 0)\n",
    "log.start()"
   ]
  },
  {
   "cell_type": "code",
   "execution_count": 5,
   "metadata": {},
   "outputs": [],
   "source": [
    "root_folder = 'data'\n",
    "mode = 'DeepSolarEyeCalc'\n",
    "dataset = 'DeepSolarEye_192x192'"
   ]
  },
  {
   "cell_type": "code",
   "execution_count": 6,
   "metadata": {},
   "outputs": [],
   "source": [
    "# Regression\n",
    "nr_images_batch = 5000\n",
    "nr_batch = 9\n",
    "nr_epoch = 2"
   ]
  },
  {
   "cell_type": "code",
   "execution_count": 7,
   "metadata": {},
   "outputs": [],
   "source": [
    "folder = 'data/SolarPanelSoilingImageDataset/Solar_Panel_Soiling_Image_dataset/PanelImages'\n",
    "images_deepsolareye, data_size, coco = filterDatasetDeepSolarEye(folder)\n"
   ]
  },
  {
   "cell_type": "code",
   "execution_count": 8,
   "metadata": {},
   "outputs": [],
   "source": [
    "    input_image_size = (192,192)\n",
    "\n",
    "    folder_out = '{}/{}/{}'.format(root_folder, mode, dataset)\n",
    "    folder_out_mask = '{}/{}/{}_mask'.format(root_folder, mode, dataset)\n",
    "    folder_out_rec = '{}/{}/{}_rec'.format(root_folder, mode, dataset)\n",
    "    \n",
    "    pathlib.Path(folder_out).mkdir(parents=True, exist_ok=True) \n",
    "    pathlib.Path(folder_out_mask).mkdir(parents=True, exist_ok=True)\n",
    "    pathlib.Path(folder_out_rec).mkdir(parents=True, exist_ok=True)"
   ]
  },
  {
   "cell_type": "code",
   "execution_count": null,
   "metadata": {},
   "outputs": [],
   "source": [
    "calc_start_time = time()\n",
    "for i in range(0,data_size):\n",
    "        filename = images_deepsolareye[i]['file_name'].split('/')[2]\n",
    "        outfile = folder_out + \"/\" + filename\n",
    "        outfile_mask = folder_out_mask + \"/\" + filename\n",
    "        outfile_rec = folder_out_rec + \"/\"  + filename\n",
    "        \n",
    "        \n",
    "        image = Image.open(folder + '/' + filename)\n",
    "        image.save(outfile)\n",
    "        #print(image.getbbox())\n",
    "        im_rotate = image.rotate(9)\n",
    "        box = (20, 20, 180, 160)\n",
    "        cropped_image = im_rotate.crop(box).resize((192,192))\n",
    "        cropped_image.save(outfile_rec)\n",
    "        if i % 1000 == 0:\n",
    "            print(\"Number of Images croped\", i)\n",
    "log.log_task_end('calc_deepsolareye_time', calc_start_time)\n",
    "            "
   ]
  },
  {
   "cell_type": "code",
   "execution_count": 9,
   "metadata": {},
   "outputs": [],
   "source": [
    "# Make Regression on recification deep solar eye pictures\n",
    "folder = \"data/DeepSolarEyeCalc/DeepSolarEye_192x192_rec\""
   ]
  },
  {
   "cell_type": "code",
   "execution_count": 10,
   "metadata": {},
   "outputs": [
    {
     "data": {
      "text/plain": [
       "'data/DeepSolarEyeCalc/DeepSolarEye_192x192_rec'"
      ]
     },
     "execution_count": 10,
     "metadata": {},
     "output_type": "execute_result"
    }
   ],
   "source": [
    "folder"
   ]
  },
  {
   "cell_type": "code",
   "execution_count": 11,
   "metadata": {},
   "outputs": [
    {
     "name": "stdout",
     "output_type": "stream",
     "text": [
      "Trial 6 Complete [00h 00m 56s]\n",
      "val_loss: 3.6502622151601827e-06\n",
      "\n",
      "Best val_loss So Far: 7.162654800871304e-13\n",
      "Total elapsed time: 00h 09m 38s\n",
      "Epoch 1/2\n",
      "200/200 [==============================] - 19s 85ms/step - loss: 0.1551 - mean_squared_error: 0.1551\n",
      "Epoch 2/2\n",
      "200/200 [==============================] - 17s 86ms/step - loss: 7.1765e-04 - mean_squared_error: 7.1765e-04\n",
      "--- Batch 2 --- \n",
      "select from to 10000 15000\n",
      "Files in train_files: 5000\n",
      "1000 images to array\n",
      "2000 images to array\n",
      "3000 images to array\n",
      "4000 images to array\n",
      "5000 images to array\n",
      "All images to array!\n",
      "Epoch 1/2\n",
      "200/200 [==============================] - 19s 85ms/step - loss: 0.0117 - mean_squared_error: 0.0117\n",
      "Epoch 2/2\n",
      "200/200 [==============================] - 17s 86ms/step - loss: 0.1218 - mean_squared_error: 0.1218\n",
      "--- Batch 3 --- \n",
      "select from to 15000 20000\n",
      "Files in train_files: 5000\n",
      "1000 images to array\n",
      "2000 images to array\n",
      "3000 images to array\n",
      "4000 images to array\n",
      "5000 images to array\n",
      "All images to array!\n",
      "Epoch 1/2\n",
      "200/200 [==============================] - 19s 84ms/step - loss: 0.1974 - mean_squared_error: 0.1974\n",
      "Epoch 2/2\n",
      "200/200 [==============================] - 17s 85ms/step - loss: 0.0613 - mean_squared_error: 0.0613\n",
      "--- Batch 4 --- \n",
      "select from to 20000 25000\n",
      "Files in train_files: 5000\n",
      "1000 images to array\n",
      "2000 images to array\n",
      "3000 images to array\n",
      "4000 images to array\n",
      "5000 images to array\n",
      "All images to array!\n",
      "Epoch 1/2\n",
      "200/200 [==============================] - 19s 84ms/step - loss: 8.8515e-04 - mean_squared_error: 8.8515e-04\n",
      "Epoch 2/2\n",
      "200/200 [==============================] - 17s 86ms/step - loss: 0.0529 - mean_squared_error: 0.0529\n",
      "--- Batch 5 --- \n",
      "select from to 25000 30000\n",
      "Files in train_files: 5000\n",
      "1000 images to array\n",
      "2000 images to array\n",
      "3000 images to array\n",
      "4000 images to array\n",
      "5000 images to array\n",
      "All images to array!\n",
      "Epoch 1/2\n",
      "200/200 [==============================] - 19s 84ms/step - loss: 0.5059 - mean_squared_error: 0.5059\n",
      "Epoch 2/2\n",
      "200/200 [==============================] - 17s 86ms/step - loss: 0.0459 - mean_squared_error: 0.0459\n",
      "--- Batch 6 --- \n",
      "select from to 30000 35000\n",
      "Files in train_files: 5000\n",
      "1000 images to array\n",
      "2000 images to array\n",
      "3000 images to array\n",
      "4000 images to array\n",
      "5000 images to array\n",
      "All images to array!\n",
      "Epoch 1/2\n",
      "200/200 [==============================] - 18s 83ms/step - loss: 0.3441 - mean_squared_error: 0.3441\n",
      "Epoch 2/2\n",
      "200/200 [==============================] - 17s 85ms/step - loss: 0.0102 - mean_squared_error: 0.0102\n",
      "--- Batch 7 --- \n",
      "select from to 35000 40000\n",
      "Files in train_files: 5000\n",
      "1000 images to array\n",
      "2000 images to array\n",
      "3000 images to array\n",
      "4000 images to array\n",
      "5000 images to array\n",
      "All images to array!\n",
      "Epoch 1/2\n",
      "200/200 [==============================] - 18s 82ms/step - loss: 0.3024 - mean_squared_error: 0.3024\n",
      "Epoch 2/2\n",
      "200/200 [==============================] - 17s 84ms/step - loss: 0.0039 - mean_squared_error: 0.0039\n",
      "--- Batch 8 --- \n",
      "select from to 40000 45000\n",
      "Files in train_files: 5000\n",
      "1000 images to array\n",
      "2000 images to array\n",
      "3000 images to array\n",
      "4000 images to array\n",
      "5000 images to array\n",
      "All images to array!\n",
      "Last run, eval the model\n",
      "--- 2881.6283111572266 seconds ---\n"
     ]
    }
   ],
   "source": [
    "model_name = 'DeepSolarEyeCalc'\n",
    "training_start_time = time()\n",
    "model, mse, rmse, mae = train_keras(model_name, folder, nr_images_batch, nr_batch, nr_epoch, 25)\n",
    "training_time = time() - training_start_time\n",
    "log.log_task_end('regression_time', training_start_time)\n",
    "print(\"--- %s seconds ---\" % (training_time))"
   ]
  },
  {
   "cell_type": "code",
   "execution_count": 12,
   "metadata": {},
   "outputs": [
    {
     "name": "stdout",
     "output_type": "stream",
     "text": [
      "MODEL SUMMARY\n",
      "-------------\n",
      "Test MSE: 0.0046223784\n",
      "Test RMSE: 0.067988075\n",
      "Test MAE: 0.0009615527\n"
     ]
    }
   ],
   "source": [
    "# Print Model Summary:\n",
    "print(\"MODEL SUMMARY\")\n",
    "print(\"-------------\")\n",
    "print(\"Test MSE:\", mse)\n",
    "print(\"Test RMSE:\", rmse)\n",
    "print(\"Test MAE:\", mae)"
   ]
  },
  {
   "cell_type": "code",
   "execution_count": 13,
   "metadata": {},
   "outputs": [],
   "source": [
    "# add Metric to the log\n",
    "log.add_metric('Regression MSE', mse)\n",
    "log.add_metric('Regression RMSE', rmse)\n",
    "log.add_metric('Regression MAE', mae)"
   ]
  },
  {
   "cell_type": "code",
   "execution_count": 14,
   "metadata": {},
   "outputs": [],
   "source": [
    "keras_model = model.export_model()"
   ]
  },
  {
   "cell_type": "code",
   "execution_count": 15,
   "metadata": {},
   "outputs": [
    {
     "name": "stdout",
     "output_type": "stream",
     "text": [
      "Model: \"model\"\n",
      "_________________________________________________________________\n",
      "Layer (type)                 Output Shape              Param #   \n",
      "=================================================================\n",
      "input_1 (InputLayer)         [(None, 192, 192, 3)]     0         \n",
      "_________________________________________________________________\n",
      "cast_to_float32 (CastToFloat (None, 192, 192, 3)       0         \n",
      "_________________________________________________________________\n",
      "xception (Functional)        (None, None, None, 2048)  20861480  \n",
      "_________________________________________________________________\n",
      "flatten (Flatten)            (None, 73728)             0         \n",
      "_________________________________________________________________\n",
      "regression_head_1 (Dense)    (None, 1)                 73729     \n",
      "=================================================================\n",
      "Total params: 20,935,209\n",
      "Trainable params: 20,880,681\n",
      "Non-trainable params: 54,528\n",
      "_________________________________________________________________\n"
     ]
    }
   ],
   "source": [
    "keras_model.summary()"
   ]
  },
  {
   "cell_type": "code",
   "execution_count": 16,
   "metadata": {},
   "outputs": [],
   "source": [
    "log.log_experiment_end()"
   ]
  },
  {
   "cell_type": "code",
   "execution_count": 17,
   "metadata": {},
   "outputs": [],
   "source": [
    "keras_model.save('model/' + str(model_name))"
   ]
  },
  {
   "cell_type": "code",
   "execution_count": null,
   "metadata": {},
   "outputs": [],
   "source": []
  }
 ],
 "metadata": {
  "environment": {
   "name": "tf2-gpu.2-4.m68",
   "type": "gcloud",
   "uri": "gcr.io/deeplearning-platform-release/tf2-gpu.2-4:m68"
  },
  "kernelspec": {
   "display_name": "Python [conda env:root] *",
   "language": "python",
   "name": "conda-root-py"
  },
  "language_info": {
   "codemirror_mode": {
    "name": "ipython",
    "version": 3
   },
   "file_extension": ".py",
   "mimetype": "text/x-python",
   "name": "python",
   "nbconvert_exporter": "python",
   "pygments_lexer": "ipython3",
   "version": "3.7.10"
  }
 },
 "nbformat": 4,
 "nbformat_minor": 4
}
